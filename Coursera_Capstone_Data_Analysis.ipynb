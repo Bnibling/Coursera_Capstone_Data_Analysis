{
    "cells": [
        {
            "cell_type": "markdown",
            "metadata": {
                "collapsed": true
            },
            "source": "## Capstone Project- Data Analysis Course"
        },
        {
            "cell_type": "markdown",
            "metadata": {},
            "source": "Write some markdown to explain that this notebook will be mainly used for the capstone project.\nImport the pandas library as pd.\nImport the Numpy library as np.\nPrint the following the statement: Hello Capstone Project Course!"
        },
        {
            "cell_type": "code",
            "execution_count": null,
            "metadata": {},
            "outputs": [],
            "source": "import pandas as pd\nimport numpy as np"
        }
    ],
    "metadata": {
        "kernelspec": {
            "display_name": "Python 3.6",
            "language": "python",
            "name": "python3"
        },
        "language_info": {
            "codemirror_mode": {
                "name": "ipython",
                "version": 3
            },
            "file_extension": ".py",
            "mimetype": "text/x-python",
            "name": "python",
            "nbconvert_exporter": "python",
            "pygments_lexer": "ipython3",
            "version": "3.6.9"
        }
    },
    "nbformat": 4,
    "nbformat_minor": 1
}